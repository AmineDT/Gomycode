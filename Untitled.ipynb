{
 "cells": [
  {
   "cell_type": "code",
   "execution_count": 3,
   "metadata": {},
   "outputs": [
    {
     "data": {
      "text/html": [
       "<div>\n",
       "<style scoped>\n",
       "    .dataframe tbody tr th:only-of-type {\n",
       "        vertical-align: middle;\n",
       "    }\n",
       "\n",
       "    .dataframe tbody tr th {\n",
       "        vertical-align: top;\n",
       "    }\n",
       "\n",
       "    .dataframe thead th {\n",
       "        text-align: right;\n",
       "    }\n",
       "</style>\n",
       "<table border=\"1\" class=\"dataframe\">\n",
       "  <thead>\n",
       "    <tr style=\"text-align: right;\">\n",
       "      <th></th>\n",
       "      <th>Si</th>\n",
       "      <th>Pi</th>\n",
       "      <th>VANi</th>\n",
       "    </tr>\n",
       "  </thead>\n",
       "  <tbody>\n",
       "    <tr>\n",
       "      <th>0</th>\n",
       "      <td>S1</td>\n",
       "      <td>0.2</td>\n",
       "      <td>1685.950413</td>\n",
       "    </tr>\n",
       "    <tr>\n",
       "      <th>1</th>\n",
       "      <td>S2</td>\n",
       "      <td>0.2</td>\n",
       "      <td>1355.371901</td>\n",
       "    </tr>\n",
       "    <tr>\n",
       "      <th>2</th>\n",
       "      <td>S3</td>\n",
       "      <td>0.3</td>\n",
       "      <td>1066.115702</td>\n",
       "    </tr>\n",
       "    <tr>\n",
       "      <th>3</th>\n",
       "      <td>S4</td>\n",
       "      <td>0.3</td>\n",
       "      <td>652.892562</td>\n",
       "    </tr>\n",
       "  </tbody>\n",
       "</table>\n",
       "</div>"
      ],
      "text/plain": [
       "   Si   Pi         VANi\n",
       "0  S1  0.2  1685.950413\n",
       "1  S2  0.2  1355.371901\n",
       "2  S3  0.3  1066.115702\n",
       "3  S4  0.3   652.892562"
      ]
     },
     "execution_count": 3,
     "metadata": {},
     "output_type": "execute_result"
    }
   ],
   "source": [
    "import pandas as pd\n",
    "I = 1000\n",
    "P1 = 0.4 * 0.5\n",
    "P2 = 0.4 * 0.5\n",
    "P3 = 0.6 * 0.5\n",
    "P4 = 0.6 * 0.5\n",
    "VAN1 = -I + 1500/(1.1) + 1600/(1.1)**2\n",
    "VAN2 = -I + 1500/(1.1) + 1200/(1.1)**2\n",
    "VAN3 = -I + 1000/(1.1) + 1400/(1.1)**2\n",
    "VAN4 = -I + 1000/(1.1) + 900/(1.1)**2\n",
    "data = {'Si': ['S1', 'S2', 'S3', 'S4'],\n",
    "        'Pi': [P1, P2, P3, P4],\n",
    "        'VANi': [VAN1, VAN2, VAN3, VAN4]}\n",
    "df = pd.DataFrame(data)\n",
    "df"
   ]
  },
  {
   "cell_type": "code",
   "execution_count": 4,
   "metadata": {},
   "outputs": [
    {
     "data": {
      "text/plain": [
       "1123.9669421487602"
      ]
     },
     "execution_count": 4,
     "metadata": {},
     "output_type": "execute_result"
    }
   ],
   "source": [
    "evan = (df['Pi'] * df['VANi']).sum()\n",
    "evan"
   ]
  },
  {
   "cell_type": "code",
   "execution_count": 5,
   "metadata": {},
   "outputs": [
    {
     "data": {
      "text/plain": [
       "141452.08660610614"
      ]
     },
     "execution_count": 5,
     "metadata": {},
     "output_type": "execute_result"
    }
   ],
   "source": [
    "varvan = (df['Pi'] * (df['VANi'] - evan)**2).sum()\n",
    "varvan"
   ]
  },
  {
   "cell_type": "code",
   "execution_count": 6,
   "metadata": {},
   "outputs": [
    {
     "data": {
      "text/plain": [
       "376.1011653878596"
      ]
     },
     "execution_count": 6,
     "metadata": {},
     "output_type": "execute_result"
    }
   ],
   "source": [
    "import math\n",
    "\n",
    "sqrt_va:rvan = math.sqrt(varvan)\n",
    "sqrt_varvan"
   ]
  },
  {
   "cell_type": "code",
   "execution_count": null,
   "metadata": {},
   "outputs": [],
   "source": []
  }
 ],
 "metadata": {
  "kernelspec": {
   "display_name": "Python 3",
   "language": "python",
   "name": "python3"
  },
  "language_info": {
   "codemirror_mode": {
    "name": "ipython",
    "version": 3
   },
   "file_extension": ".py",
   "mimetype": "text/x-python",
   "name": "python",
   "nbconvert_exporter": "python",
   "pygments_lexer": "ipython3",
   "version": "3.7.3"
  }
 },
 "nbformat": 4,
 "nbformat_minor": 2
}
