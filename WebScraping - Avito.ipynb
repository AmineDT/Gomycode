{
 "cells": [
  {
   "cell_type": "code",
   "execution_count": 8,
   "metadata": {},
   "outputs": [
    {
     "name": "stdout",
     "output_type": "stream",
     "text": [
      "https://www.avito.ma/fr/ouazzane/voitures/Volkswagen_caddy__44270808.htm Volkswagen caddy  105 000 DH Diesel 8 CV\n",
      "https://www.avito.ma/fr/hay_riad/voitures/Mercedes_Benz_Gla__48734775.htm Mercedes Benz Gla  Prix non specifié Diesel 7 CV\n",
      "https://www.avito.ma/fr/hay_el_fath/voitures/VOLVO_XC60__47983686.htm VOLVO XC60  Prix non specifié Diesel 8 CV\n",
      "https://www.avito.ma/fr/drissia/voitures/Renault_clio_3_44172852.htm Renault clio 3 106 000 DH Diesel 6 CV\n",
      "https://www.avito.ma/fr/hassan/voitures/Nissan_juke_diesel__45433715.htm Nissan juke diesel  Prix non specifié Diesel 6 CV\n",
      "https://www.avito.ma/fr/drissia/voitures/Volkswagen_golf_7_44172571.htm Volkswagen golf 7 230 000 DH Diesel 6 CV\n",
      "https://www.avito.ma/fr/les_princesses/voitures/LINCOLN_MKZ_HYBRID_45576480.htm LINCOLN MKZ HYBRID Prix non specifié Hybride 11 CV\n",
      "https://www.avito.ma/fr/drissia/voitures/Ford_Fiesta_44177949.htm Ford Fiesta 98 000 DH Diesel 6 CV\n",
      "https://www.avito.ma/fr/marrakech/voitures/208_White_édition__50032565.htm 208 White édition  118 000 DH Diesel 6 CV\n",
      "https://www.avito.ma/fr/massira/voitures/Ford_fiesta_essence_tout_option_50130502.htm Ford fiesta essence tout option Prix non specifié Essence 7 CV\n",
      "https://www.avito.ma/fr/el_houda/voitures/fiat_Tipo_diesel__47969290.htm fiat Tipo diesel  Prix non specifié Diesel 6 CV\n",
      "https://www.avito.ma/fr/marrakech/voitures/Grand_i10_Automatique__49996350.htm Grand i10 Automatique  Prix non specifié Essence --\n",
      "https://www.avito.ma/fr/drissia/voitures/Mercedes_Benz__46049959.htm Mercedes Benz  320 000 DH Diesel 8 CV\n",
      "https://www.avito.ma/fr/val_fleuri/voitures/Golf_7_GTD__50034600.htm Golf 7 GTD  Prix non specifié Diesel 9 CV\n",
      "https://www.avito.ma/fr/sidi_moumen/voitures/Volswagen_polo_diesel__49754897.htm Volswagen polo diesel  59 000 DH Diesel 8 CV\n",
      "https://www.avito.ma/fr/val_fleuri/voitures/BMW_Série_1_49733707.htm BMW Série 1 Prix non specifié Essence 17 CV\n",
      "https://www.avito.ma/fr/drissia/voitures/Citroen_Berlingo_44445380.htm Citroen Berlingo 75 000 DH Diesel 6 CV\n",
      "https://www.avito.ma/fr/bourgogne/voitures/Seat_Léon_FR__2_0_Tdi_bva_49773850.htm Seat Léon FR 2.0 Tdi bva Prix non specifié Diesel 8 CV\n",
      "https://www.avito.ma/fr/agdal/voitures/MERCEDES_BENZ_CLASSE_C_220_39351966.htm MERCEDES-BENZ CLASSE C 220 Prix non specifié Diesel 9 CV\n",
      "https://www.avito.ma/fr/oulfa/voitures/MERCEDES_BENZ_Classe_E_550_pack_AMG_Essence_37583320.htm MERCEDES BENZ Classe E 550 pack AMG Essence 165 000 DH Essence 6 CV\n",
      "https://www.avito.ma/fr/drissia/voitures/Volkswagen_golf_5_45137638.htm Volkswagen golf 5 82 000 DH Diesel 8 CV\n",
      "https://www.avito.ma/fr/drissia/voitures/Dacia_Logan__46323531.htm Dacia Logan  59 000 DH Diesel 6 CV\n",
      "https://www.avito.ma/fr/hay_hassani/voitures/Fiat_freemont_Diesel_automatique_36949772.htm Fiat freemont Diesel automatique 139 000 DH Diesel 8 CV\n",
      "https://www.avito.ma/fr/ouazzane/voitures/Renault_Kangoo__47787245.htm Renault Kangoo  57 000 DH Diesel 6 CV\n",
      "https://www.avito.ma/fr/casablanca/voitures/Renault_Kango_climat_49886641.htm Renault Kango climat Prix non specifié Diesel 6 CV\n",
      "https://www.avito.ma/fr/gauthier/voitures/Mercedes_s_400_diesel_43856661.htm Mercedes s 400 diesel Prix non specifié Diesel 12 CV\n",
      "https://www.avito.ma/fr/drissia/voitures/Fiat_Doblo__44172168.htm Fiat Doblo  77 000 DH Diesel 6 CV\n",
      "https://www.avito.ma/fr/drissia/voitures/Citroen_Berlingo__44839623.htm Citroen Berlingo  94 000 DH Diesel 6 CV\n",
      "https://www.avito.ma/fr/hay_riad/voitures/Citroen_c3__50112886.htm Citroen c3  Prix non specifié Diesel 6 CV\n",
      "https://www.avito.ma/fr/les_princesses/voitures/DODGE_AVENGER_DED_EN_2021_47552117.htm DODGE AVENGER DED EN 2021 Prix non specifié Essence 20 CV\n",
      "https://www.avito.ma/fr/maarif/voitures/Porsche_Cayenne__Sport_Design_49933518.htm Porsche Cayenne Sport Design Prix non specifié Diesel 12 CV\n",
      "https://www.avito.ma/fr/drissia/voitures/Hyundia_GRaND_i10_45679491.htm Hyundia GRaND i10 78 000 DH Essence 6 CV\n",
      "https://www.avito.ma/fr/hay_el_fath/voitures/Toyota_Avensis_49858695.htm Toyota Avensis Prix non specifié Essence 11 CV\n",
      "https://www.avito.ma/fr/gauthier/voitures/Mercedes_G63_AMG_49558114.htm Mercedes G63 AMG Prix non specifié Essence 23 CV\n",
      "https://www.avito.ma/fr/val_fleuri/voitures/BMW_X5_2_5D_48256584.htm BMW X5 2.5D Prix non specifié Diesel 10 CV\n",
      "https://www.avito.ma/fr/ouazzane/voitures/Volkswagen_caddy__44270808.htm Volkswagen caddy  105 000 DH Diesel 8 CV\n",
      "https://www.avito.ma/fr/hay_riad/voitures/Mercedes_Benz_Gla__48734775.htm Mercedes Benz Gla  Prix non specifié Diesel 7 CV\n",
      "https://www.avito.ma/fr/hay_el_fath/voitures/VOLVO_XC60__47983686.htm VOLVO XC60  Prix non specifié Diesel 8 CV\n",
      "https://www.avito.ma/fr/drissia/voitures/Renault_clio_3_44172852.htm Renault clio 3 106 000 DH Diesel 6 CV\n",
      "https://www.avito.ma/fr/hassan/voitures/Nissan_juke_diesel__45433715.htm Nissan juke diesel  Prix non specifié Diesel 6 CV\n",
      "https://www.avito.ma/fr/drissia/voitures/Volkswagen_golf_7_44172571.htm Volkswagen golf 7 230 000 DH Diesel 6 CV\n",
      "https://www.avito.ma/fr/les_princesses/voitures/LINCOLN_MKZ_HYBRID_45576480.htm LINCOLN MKZ HYBRID Prix non specifié Hybride 11 CV\n",
      "https://www.avito.ma/fr/drissia/voitures/Ford_Fiesta_44177949.htm Ford Fiesta 98 000 DH Diesel 6 CV\n",
      "https://www.avito.ma/fr/marrakech/voitures/208_White_édition__50032565.htm 208 White édition  118 000 DH Diesel 6 CV\n",
      "https://www.avito.ma/fr/massira/voitures/Ford_fiesta_essence_tout_option_50130502.htm Ford fiesta essence tout option Prix non specifié Essence 7 CV\n",
      "https://www.avito.ma/fr/el_houda/voitures/fiat_Tipo_diesel__47969290.htm fiat Tipo diesel  Prix non specifié Diesel 6 CV\n",
      "https://www.avito.ma/fr/marrakech/voitures/Grand_i10_Automatique__49996350.htm Grand i10 Automatique  Prix non specifié Essence --\n",
      "https://www.avito.ma/fr/drissia/voitures/Mercedes_Benz__46049959.htm Mercedes Benz  320 000 DH Diesel 8 CV\n",
      "https://www.avito.ma/fr/val_fleuri/voitures/Golf_7_GTD__50034600.htm Golf 7 GTD  Prix non specifié Diesel 9 CV\n",
      "https://www.avito.ma/fr/sidi_moumen/voitures/Volswagen_polo_diesel__49754897.htm Volswagen polo diesel  59 000 DH Diesel 8 CV\n",
      "https://www.avito.ma/fr/val_fleuri/voitures/BMW_Série_1_49733707.htm BMW Série 1 Prix non specifié Essence 17 CV\n",
      "https://www.avito.ma/fr/drissia/voitures/Citroen_Berlingo_44445380.htm Citroen Berlingo 75 000 DH Diesel 6 CV\n",
      "https://www.avito.ma/fr/bourgogne/voitures/Seat_Léon_FR__2_0_Tdi_bva_49773850.htm Seat Léon FR 2.0 Tdi bva Prix non specifié Diesel 8 CV\n",
      "https://www.avito.ma/fr/agdal/voitures/MERCEDES_BENZ_CLASSE_C_220_39351966.htm MERCEDES-BENZ CLASSE C 220 Prix non specifié Diesel 9 CV\n",
      "https://www.avito.ma/fr/oulfa/voitures/MERCEDES_BENZ_Classe_E_550_pack_AMG_Essence_37583320.htm MERCEDES BENZ Classe E 550 pack AMG Essence 165 000 DH Essence 6 CV\n",
      "https://www.avito.ma/fr/drissia/voitures/Volkswagen_golf_5_45137638.htm Volkswagen golf 5 82 000 DH Diesel 8 CV\n",
      "https://www.avito.ma/fr/drissia/voitures/Dacia_Logan__46323531.htm Dacia Logan  59 000 DH Diesel 6 CV\n",
      "https://www.avito.ma/fr/hay_hassani/voitures/Fiat_freemont_Diesel_automatique_36949772.htm Fiat freemont Diesel automatique 139 000 DH Diesel 8 CV\n",
      "https://www.avito.ma/fr/ouazzane/voitures/Renault_Kangoo__47787245.htm Renault Kangoo  57 000 DH Diesel 6 CV\n",
      "https://www.avito.ma/fr/casablanca/voitures/Renault_Kango_climat_49886641.htm Renault Kango climat Prix non specifié Diesel 6 CV\n",
      "https://www.avito.ma/fr/gauthier/voitures/Mercedes_s_400_diesel_43856661.htm Mercedes s 400 diesel Prix non specifié Diesel 12 CV\n",
      "https://www.avito.ma/fr/drissia/voitures/Fiat_Doblo__44172168.htm Fiat Doblo  77 000 DH Diesel 6 CV\n",
      "https://www.avito.ma/fr/drissia/voitures/Citroen_Berlingo__44839623.htm Citroen Berlingo  94 000 DH Diesel 6 CV\n",
      "https://www.avito.ma/fr/hay_riad/voitures/Citroen_c3__50112886.htm Citroen c3  Prix non specifié Diesel 6 CV\n",
      "https://www.avito.ma/fr/les_princesses/voitures/DODGE_AVENGER_DED_EN_2021_47552117.htm DODGE AVENGER DED EN 2021 Prix non specifié Essence 20 CV\n",
      "https://www.avito.ma/fr/maarif/voitures/Porsche_Cayenne__Sport_Design_49933518.htm Porsche Cayenne Sport Design Prix non specifié Diesel 12 CV\n",
      "https://www.avito.ma/fr/drissia/voitures/Hyundia_GRaND_i10_45679491.htm Hyundia GRaND i10 78 000 DH Essence 6 CV\n",
      "https://www.avito.ma/fr/hay_el_fath/voitures/Toyota_Avensis_49858695.htm Toyota Avensis Prix non specifié Essence 11 CV\n"
     ]
    },
    {
     "name": "stdout",
     "output_type": "stream",
     "text": [
      "https://www.avito.ma/fr/gauthier/voitures/Mercedes_G63_AMG_49558114.htm Mercedes G63 AMG Prix non specifié Essence 23 CV\n",
      "https://www.avito.ma/fr/val_fleuri/voitures/BMW_X5_2_5D_48256584.htm BMW X5 2.5D Prix non specifié Diesel 10 CV\n"
     ]
    }
   ],
   "source": [
    "import requests\n",
    "from bs4 import BeautifulSoup\n",
    "\n",
    "URL = \"https://www.avito.ma/fr/maroc/voitures-%C3%A0_vendre\"\n",
    "r = requests.get(URL).text\n",
    "soup = BeautifulSoup(r, \"html.parser\")\n",
    "#data = soup.find_all(\"a\",{\"class\":\"oan6tk-1 fFOxTQ\"})\n",
    "\n",
    "pagination = soup.find(\"div\",{\"class\":\"sc-116g21e-1 cxwSwW\"})\n",
    "pages = int(pagination.contents[0].find_all(\"a\",{\"class\":\"sc-1cf7u6r-0 kfrvnK sc-2y0ggl-1 isVZzi\"})[-2].text)\n",
    "#print(pagination.contents[0].text)\n",
    "#print(pages)\n",
    "\n",
    "for p in range(1,pages): #j'ai utilisé range(1,3) pour le test\n",
    "    URL0 = \"https://www.avito.ma/fr/maroc/voitures-%C3%A0_vendre?o={p}\"\n",
    "    r0 = requests.get(URL0).text\n",
    "    soup0 = BeautifulSoup(r, \"html.parser\")\n",
    "    data = soup0.find_all(\"a\",{\"class\":\"oan6tk-1 fFOxTQ\"})\n",
    "    #print(data)\n",
    "    for i in data:\n",
    "        lien = i['href']\n",
    "        #print(lien)\n",
    "        page = requests.get(lien).text\n",
    "        soup1 = BeautifulSoup(page, \"html.parser\")\n",
    "        data1 = soup1.find_all(\"div\",{\"class\":\"sc-1g3sn3w-7 hZkZSM\"})\n",
    "        #print(data1)\n",
    "        for l1 in data1:\n",
    "            nom = l1.contents[0].find_all(\"h1\",{\"class\":\"sc-1x0vz2r-0 glWiuP\"})[0].text\n",
    "            carburant = l1.contents[2].find_all(\"span\",{\"class\":\"sc-1x0vz2r-0 kUjmne\"})[0].text\n",
    "            puissance = l1.contents[2].find_all(\"span\",{\"class\":\"sc-1x0vz2r-0 kUjmne\"})[1].text\n",
    "            try:\n",
    "                prix = l1.contents[0].find_all(\"p\",{\"class\":\"sc-1x0vz2r-0 bGMGAj\"})[0].text\n",
    "            except IndexError:  # if (\"p\",{\"class\":\"sc-1x0vz2r-0 bGMGAj\"}) doesn't exist\n",
    "                prix = \"Prix non specifié\"\n",
    "            #liste = [lien,nom,prix,carburant,puissance]\n",
    "            #print(liste)\n",
    "            #dictionary = {\"lien\":lien,\"nom\":nom,\"prix\":prix,\"carburant\":carburant,\"puissance\":puissance}\n",
    "            #print(dictionary)\n",
    "            print(lien,nom,prix,carburant,puissance)\n",
    "        "
   ]
  },
  {
   "cell_type": "code",
   "execution_count": null,
   "metadata": {},
   "outputs": [],
   "source": []
  }
 ],
 "metadata": {
  "kernelspec": {
   "display_name": "Python 3",
   "language": "python",
   "name": "python3"
  },
  "language_info": {
   "codemirror_mode": {
    "name": "ipython",
    "version": 3
   },
   "file_extension": ".py",
   "mimetype": "text/x-python",
   "name": "python",
   "nbconvert_exporter": "python",
   "pygments_lexer": "ipython3",
   "version": "3.7.3"
  },
  "varInspector": {
   "cols": {
    "lenName": 16,
    "lenType": 16,
    "lenVar": 40
   },
   "kernels_config": {
    "python": {
     "delete_cmd_postfix": "",
     "delete_cmd_prefix": "del ",
     "library": "var_list.py",
     "varRefreshCmd": "print(var_dic_list())"
    },
    "r": {
     "delete_cmd_postfix": ") ",
     "delete_cmd_prefix": "rm(",
     "library": "var_list.r",
     "varRefreshCmd": "cat(var_dic_list()) "
    }
   },
   "types_to_exclude": [
    "module",
    "function",
    "builtin_function_or_method",
    "instance",
    "_Feature"
   ],
   "window_display": false
  }
 },
 "nbformat": 4,
 "nbformat_minor": 5
}
